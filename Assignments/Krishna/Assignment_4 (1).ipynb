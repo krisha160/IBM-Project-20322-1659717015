{
  "nbformat": 4,
  "nbformat_minor": 0,
  "metadata": {
    "colab": {
      "provenance": []
    },
    "kernelspec": {
      "name": "python3",
      "display_name": "Python 3"
    },
    "language_info": {
      "name": "python"
    }
  },
  "cells": [
    {
      "cell_type": "code",
      "execution_count": 1,
      "metadata": {
        "colab": {
          "base_uri": "https://localhost:8080/"
        },
        "id": "6oa8-LuXnzCN",
        "outputId": "6062096a-cf19-4593-b27c-22f4dcb945ec"
      },
      "outputs": [
        {
          "output_type": "stream",
          "name": "stdout",
          "text": [
            "Mounted at /content/drive\n"
          ]
        }
      ],
      "source": [
        "from google.colab import drive\n",
        "drive.mount('/content/drive')"
      ]
    },
    {
      "cell_type": "code",
      "source": [
        "import pandas as pd\n",
        "import numpy as np\n",
        "import matplotlib.pyplot as plt\n",
        "import seaborn as sns\n",
        "from sklearn.model_selection import train_test_split\n",
        "from sklearn.preprocessing import LabelEncoder\n",
        "from keras.models import Model\n",
        "from keras.layers import LSTM, Activation, Dense, Dropout, Input, Embedding\n",
        "from keras.optimizers import RMSprop\n",
        "from keras.preprocessing.text import Tokenizer\n",
        "from keras.preprocessing import sequence\n",
        "from keras.utils import pad_sequences\n",
        "from keras.utils import to_categorical\n",
        "from keras.callbacks import EarlyStopping\n"
      ],
      "metadata": {
        "id": "ORZPLKcYoeBs"
      },
      "execution_count": 2,
      "outputs": []
    },
    {
      "cell_type": "markdown",
      "source": [
        "Read dataset and do pre-processing"
      ],
      "metadata": {
        "id": "FsJmNZCio6AS"
      }
    },
    {
      "cell_type": "code",
      "source": [
        "df = pd.read_csv('/content/drive/MyDrive/IBM/spam.csv',delimiter=',',encoding='latin- 1')\n",
        "df.head()\n",
        "df.drop(['Unnamed: 2', 'Unnamed: 3', 'Unnamed: 4'],axis=1,inplace=True)\n",
        "df.info()\n"
      ],
      "metadata": {
        "colab": {
          "base_uri": "https://localhost:8080/"
        },
        "id": "cMVGcPv3o9WW",
        "outputId": "86428856-44bb-4286-c8e4-b60c2fbc3ea6"
      },
      "execution_count": 10,
      "outputs": [
        {
          "output_type": "stream",
          "name": "stdout",
          "text": [
            "<class 'pandas.core.frame.DataFrame'>\n",
            "RangeIndex: 5572 entries, 0 to 5571\n",
            "Data columns (total 2 columns):\n",
            " #   Column  Non-Null Count  Dtype \n",
            "---  ------  --------------  ----- \n",
            " 0   v1      5572 non-null   object\n",
            " 1   v2      5572 non-null   object\n",
            "dtypes: object(2)\n",
            "memory usage: 87.2+ KB\n"
          ]
        }
      ]
    },
    {
      "cell_type": "markdown",
      "source": [
        "Create Model and Add Layers (LSTM, Dense-(Hidden Layers), Output)"
      ],
      "metadata": {
        "id": "HSjj2_7Dpclo"
      }
    },
    {
      "cell_type": "code",
      "source": [
        "X = df.v2 \n",
        "Y = df.v1\n",
        "le = LabelEncoder()\n",
        "Y = le.fit_transform(Y) \n",
        "Y = Y.reshape(-1,1)\n",
        "X_train,X_test,Y_train,Y_test = train_test_split(X,Y,test_size=0.15) \n",
        "max_words = 1000\n",
        "max_len = 150\n",
        "tok = Tokenizer(num_words=max_words) \n",
        "tok.fit_on_texts(X_train)\n",
        "sequences = tok.texts_to_sequences(X_train) \n",
        "sequences_matrix = pad_sequences(sequences,maxlen=max_len)\n",
        "\n",
        "inputs = Input(name='inputs',shape=[max_len])\n",
        "layer = Embedding(max_words,50,input_length=max_len)(inputs)\n",
        "layer = LSTM(64)(layer)\n",
        "layer = Dense(256,name='FC1')(layer)\n",
        "layer = Activation('relu')(layer)\n",
        "layer = Dropout(0.5)(layer)\n",
        "layer = Dense(1,name='out_layer')(layer)\n",
        "layer = Activation('sigmoid')(layer)\n",
        "model = Model(inputs=inputs,outputs=layer)\n",
        "model.summary()\n"
      ],
      "metadata": {
        "colab": {
          "base_uri": "https://localhost:8080/"
        },
        "id": "48SpxQw_ptdE",
        "outputId": "14279b32-3fe7-4fc0-dc3a-0ff172ec01aa"
      },
      "execution_count": 13,
      "outputs": [
        {
          "output_type": "stream",
          "name": "stdout",
          "text": [
            "Model: \"model\"\n",
            "_________________________________________________________________\n",
            " Layer (type)                Output Shape              Param #   \n",
            "=================================================================\n",
            " inputs (InputLayer)         [(None, 150)]             0         \n",
            "                                                                 \n",
            " embedding (Embedding)       (None, 150, 50)           50000     \n",
            "                                                                 \n",
            " lstm (LSTM)                 (None, 64)                29440     \n",
            "                                                                 \n",
            " FC1 (Dense)                 (None, 256)               16640     \n",
            "                                                                 \n",
            " activation (Activation)     (None, 256)               0         \n",
            "                                                                 \n",
            " dropout (Dropout)           (None, 256)               0         \n",
            "                                                                 \n",
            " out_layer (Dense)           (None, 1)                 257       \n",
            "                                                                 \n",
            " activation_1 (Activation)   (None, 1)                 0         \n",
            "                                                                 \n",
            "=================================================================\n",
            "Total params: 96,337\n",
            "Trainable params: 96,337\n",
            "Non-trainable params: 0\n",
            "_________________________________________________________________\n"
          ]
        }
      ]
    },
    {
      "cell_type": "markdown",
      "source": [
        "Compiling the Model"
      ],
      "metadata": {
        "id": "xGw8tZw4snf3"
      }
    },
    {
      "cell_type": "code",
      "source": [
        "model.compile(loss='binary_crossentropy',optimizer=RMSprop(),metrics=[ 'accuracy'])"
      ],
      "metadata": {
        "id": "h1sUcCZPsp8t"
      },
      "execution_count": 14,
      "outputs": []
    },
    {
      "cell_type": "markdown",
      "source": [
        "Training the Model"
      ],
      "metadata": {
        "id": "aP_Lfn5Bsrx-"
      }
    },
    {
      "cell_type": "code",
      "source": [
        "model.fit(sequences_matrix,Y_train,batch_size=128,epochs=10, validation_split=0.2)"
      ],
      "metadata": {
        "colab": {
          "base_uri": "https://localhost:8080/"
        },
        "id": "kt807z2EstZ-",
        "outputId": "e4502781-9aad-420b-ee19-9a506c79b8c0"
      },
      "execution_count": 15,
      "outputs": [
        {
          "output_type": "stream",
          "name": "stdout",
          "text": [
            "Epoch 1/10\n",
            "30/30 [==============================] - 12s 304ms/step - loss: 0.3432 - accuracy: 0.8590 - val_loss: 0.1578 - val_accuracy: 0.9314\n",
            "Epoch 2/10\n",
            "30/30 [==============================] - 10s 348ms/step - loss: 0.0953 - accuracy: 0.9744 - val_loss: 0.0392 - val_accuracy: 0.9842\n",
            "Epoch 3/10\n",
            "30/30 [==============================] - 9s 306ms/step - loss: 0.0491 - accuracy: 0.9863 - val_loss: 0.0374 - val_accuracy: 0.9916\n",
            "Epoch 4/10\n",
            "30/30 [==============================] - 8s 254ms/step - loss: 0.0374 - accuracy: 0.9894 - val_loss: 0.0277 - val_accuracy: 0.9937\n",
            "Epoch 5/10\n",
            "30/30 [==============================] - 9s 302ms/step - loss: 0.0317 - accuracy: 0.9913 - val_loss: 0.0234 - val_accuracy: 0.9937\n",
            "Epoch 6/10\n",
            "30/30 [==============================] - 8s 271ms/step - loss: 0.0223 - accuracy: 0.9937 - val_loss: 0.0265 - val_accuracy: 0.9916\n",
            "Epoch 7/10\n",
            "30/30 [==============================] - 8s 254ms/step - loss: 0.0162 - accuracy: 0.9955 - val_loss: 0.0277 - val_accuracy: 0.9905\n",
            "Epoch 8/10\n",
            "30/30 [==============================] - 8s 278ms/step - loss: 0.0136 - accuracy: 0.9966 - val_loss: 0.0358 - val_accuracy: 0.9884\n",
            "Epoch 9/10\n",
            "30/30 [==============================] - 8s 253ms/step - loss: 0.0083 - accuracy: 0.9976 - val_loss: 0.0404 - val_accuracy: 0.9895\n",
            "Epoch 10/10\n",
            "30/30 [==============================] - 9s 310ms/step - loss: 0.0072 - accuracy: 0.9982 - val_loss: 0.0446 - val_accuracy: 0.9895\n"
          ]
        },
        {
          "output_type": "execute_result",
          "data": {
            "text/plain": [
              "<keras.callbacks.History at 0x7fac50e01310>"
            ]
          },
          "metadata": {},
          "execution_count": 15
        }
      ]
    },
    {
      "cell_type": "markdown",
      "source": [
        "Saving the Model "
      ],
      "metadata": {
        "id": "zh4So0K4sxih"
      }
    },
    {
      "cell_type": "code",
      "source": [
        "model.save('sms_classifier.h5')"
      ],
      "metadata": {
        "id": "BLR8NDKasyOc"
      },
      "execution_count": 16,
      "outputs": []
    },
    {
      "cell_type": "markdown",
      "source": [
        "Preprocessing the Test Dataset"
      ],
      "metadata": {
        "id": "N2T4RRHdszrX"
      }
    },
    {
      "cell_type": "code",
      "source": [
        "test_sequences = tok.texts_to_sequences(X_test) \n",
        "test_sequences_matrix = pad_sequences(test_sequences,maxlen=max_len)"
      ],
      "metadata": {
        "id": "MzIGFD-2s192"
      },
      "execution_count": 18,
      "outputs": []
    },
    {
      "cell_type": "markdown",
      "source": [
        "Testing the Model"
      ],
      "metadata": {
        "id": "r2Xp2Pocs6c5"
      }
    },
    {
      "cell_type": "code",
      "source": [
        "accr = model.evaluate(test_sequences_matrix,Y_test)\n",
        "print('Test set\\n Loss: {:0.3f}\\n  Accuracy:{:0.3f}'.format(accr[0],accr[1]))\n"
      ],
      "metadata": {
        "colab": {
          "base_uri": "https://localhost:8080/"
        },
        "id": "vgGyTg6Os5dN",
        "outputId": "5b75eea3-e66f-4721-e224-30af38cf3bf7"
      },
      "execution_count": 19,
      "outputs": [
        {
          "output_type": "stream",
          "name": "stdout",
          "text": [
            "27/27 [==============================] - 1s 21ms/step - loss: 0.0988 - accuracy: 0.9833\n",
            "Test set\n",
            " Loss: 0.099\n",
            "  Accuracy:0.983\n"
          ]
        }
      ]
    }
  ]
}